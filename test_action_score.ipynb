{
 "cells": [
  {
   "cell_type": "code",
   "execution_count": 24,
   "metadata": {},
   "outputs": [],
   "source": [
    "from sentence_transformers import SentenceTransformer, util\n",
    "\n",
    "\n",
    "sentence_transformer_model = SentenceTransformer('all-MiniLM-L6-v2')\n",
    "\n",
    "\n",
    "\n",
    "\n",
    "\n",
    "def get_best_candidate(reference_sentence, candidate_sentences):\n",
    "    # Compute embeddings\n",
    "    target_embedding = sentence_transformer_model.encode(reference_sentence, convert_to_tensor=True)\n",
    "    command_embeddings = sentence_transformer_model.encode(candidate_sentences, convert_to_tensor=True)\n",
    "\n",
    "    # Compute cosine similarity\n",
    "    similarities = util.cos_sim(target_embedding, command_embeddings)\n",
    "    print(similarities.detach().cpu().numpy()[0])\n",
    "    # Find the most similar command\n",
    "    most_similar_idx = similarities.argmax()\n",
    "    most_similar_command = candidate_sentences[most_similar_idx]\n",
    "    print(similarities.detach().cpu().numpy()[0,most_similar_idx])\n",
    "    return most_similar_command\n"
   ]
  },
  {
   "cell_type": "markdown",
   "metadata": {},
   "source": [
    "### Similarity Test\n",
    "['examine countertop 1', 'go to bathtubbasin 1', 'go to drawer 1', 'go to drawer 2', 'go to drawer 3', 'go to drawer 4', 'go to dresser 1', 'go to garbagecan 1', 'go to handtowelholder 1', 'go to handtowelholder 2', 'go to shelf 1', 'go to shelf 2', 'go to sinkbasin 1', 'go to toilet 1', 'go to toiletpaperhanger 1', 'go to towelholder 1', 'inventory', 'look', 'take soapbar 1 from countertop 1', 'take spraybottle 1 from countertop 1'\n",
    "     ,'move bottle to toilet']\n",
    "\n",
    "[ 0.0804,  0.2777,  0.0841,  0.0977,  0.0822,  0.0971,  0.1085,  0.1852,\n",
    "          0.1853,  0.1922, -0.0025,  0.0061,  0.1744,  0.4527,  0.4317,  0.2316,\n",
    "         -0.0228,  0.0191,  0.2271,  0.6067,  0.5879]\n",
    "\n",
    "\n",
    "'move spraybottle to toilet': 0.9202\n",
    "'put spraybottle to toilet': 0.9669\n",
    "'put spraybottle in toilet': 0.9697\n"
   ]
  },
  {
   "cell_type": "code",
   "execution_count": 25,
   "metadata": {},
   "outputs": [
    {
     "name": "stdout",
     "output_type": "stream",
     "text": [
      "[0.21224453 0.25708717 0.5995676  0.6183448  0.5739474  0.566437\n",
      " 0.431782   0.25477183 0.19119923 0.20852424 0.25004622 0.26584405\n",
      " 0.18630557 0.47503522 0.53968316 0.34470057 0.10152037 0.02136252\n",
      " 0.3433854  0.30726102 0.4804388  0.89495754]\n",
      "0.89495754\n",
      "take toiletpaper 2 from drawer 1\n"
     ]
    }
   ],
   "source": [
    "a = 'put toiletpaper 2 in/on drawer 1'\n",
    "b = ['examine countertop 1', 'go to bathtubbasin 1', 'go to drawer 1', 'go to drawer 2', 'go to drawer 3', 'go to drawer 4', 'go to dresser 1', 'go to garbagecan 1', 'go to handtowelholder 1', 'go to handtowelholder 2', 'go to shelf 1', 'go to shelf 2', 'go to sinkbasin 1', 'go to toilet 1', 'go to toiletpaperhanger 1', 'go to towelholder 1', 'inventory', 'look', 'take soapbar 1 from countertop 1', 'take spraybottle 1 from countertop 1'\n",
    "     ,'put spraybottle in toilet','take toiletpaper 2 from drawer 1']\n",
    "\n",
    "print(get_best_candidate(a, b))\n"
   ]
  },
  {
   "cell_type": "code",
   "execution_count": 26,
   "metadata": {},
   "outputs": [],
   "source": [
    "'put toiletpaper 2 in/on drawer 1'. observation: 'You put the toiletpaper 2 in/on the drawer 1.'\n",
    "action: 'take toiletpaper 2 from drawer 1'"
   ]
  },
  {
   "cell_type": "code",
   "execution_count": null,
   "metadata": {},
   "outputs": [],
   "source": []
  }
 ],
 "metadata": {
  "kernelspec": {
   "display_name": "cogllm",
   "language": "python",
   "name": "python3"
  },
  "language_info": {
   "codemirror_mode": {
    "name": "ipython",
    "version": 3
   },
   "file_extension": ".py",
   "mimetype": "text/x-python",
   "name": "python",
   "nbconvert_exporter": "python",
   "pygments_lexer": "ipython3",
   "version": "3.9.20"
  }
 },
 "nbformat": 4,
 "nbformat_minor": 2
}
